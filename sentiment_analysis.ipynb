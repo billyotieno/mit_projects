{
 "cells": [
  {
   "cell_type": "code",
   "execution_count": 2,
   "outputs": [],
   "source": [
    "import pandas as pd\n",
    "import numpy as np"
   ],
   "metadata": {
    "collapsed": false,
    "pycharm": {
     "name": "#%%\n"
    }
   }
  },
  {
   "cell_type": "code",
   "execution_count": 6,
   "outputs": [],
   "source": [
    "reviews = pd.read_csv(\"reviews_train.tsv\", sep=\"\\t\", encoding=\"ISO-8859-1\")"
   ],
   "metadata": {
    "collapsed": false,
    "pycharm": {
     "name": "#%%\n"
    }
   }
  },
  {
   "cell_type": "code",
   "execution_count": 7,
   "outputs": [
    {
     "data": {
      "text/plain": "      sentiment   productId          userId  \\\n0            -1  B000EQYQBO  A2JZVE0Y19VLL0   \n1            -1  B000LKVHYC  A3NAKOMAS0I5L9   \n2            -1  B003QRQRY2   ARBO3XW14MNGA   \n3            -1  B008EG58V8  A1IQXGT4MJUYJ8   \n4             1  B004WZZY8M  A2TBL6WAZGXB9P   \n...         ...         ...             ...   \n3995         -1  B0038B1DEU  A3MKRM2Q9F04UH   \n3996          1  B0002CDZD0  A1ESH5GWEGT2ZX   \n3997          1  B006N3I2SK  A2S0YE8GUSX20A   \n3998          1  B004TPUSU4  A16J5HGMGX5LWM   \n3999         -1  B001TLY7BM   AKYQ59VS0B38Q   \n\n                                                summary  \\\n0                                            blue chips   \n1                                Bad even for 'healthy'   \n2                             Alot of money for one can   \n3     The Box says \"OATMEAL SQUARES\" which I believe...   \n4                                            Delicious!   \n...                                                 ...   \n3995                  Great nutrititious drink for kids   \n3996                             SOOO GOOD FOR THE SKIN   \n3997     Deep fabulous rich decaf coffee for the Keurig   \n3998                  EXCELLENT American-made GF pasta!   \n3999                                           cat food   \n\n                                                   text  helpfulY  helpfulN  \n0     The chips are okay Not near as flavorful as th...         0         0  \n1     I had high hopes for this, but it was bad.  Re...         0         0  \n2     I guess it's only one can since there is nothi...         1         1  \n3     \"Oatmeal Squares\" is in about the largest prin...         0         0  \n4     I really enjoyed this flavor, this has a very ...         1         0  \n...                                                 ...       ...       ...  \n3995  I bought both the Berry and Chocolate drinks f...         4         2  \n3996  THIS LAVENDER IS SOOO GOOD.IT LOOKS,SMELLS,TAS...         1         0  \n3997  Great great decaf.  Made the Keurig worth it. ...         1         0  \n3998  Cooks up al-dente with great flavor. Doesn't f...         0         0  \n3999  The photo presented by a reviewer convinced me...         2        10  \n\n[4000 rows x 7 columns]",
      "text/html": "<div>\n<style scoped>\n    .dataframe tbody tr th:only-of-type {\n        vertical-align: middle;\n    }\n\n    .dataframe tbody tr th {\n        vertical-align: top;\n    }\n\n    .dataframe thead th {\n        text-align: right;\n    }\n</style>\n<table border=\"1\" class=\"dataframe\">\n  <thead>\n    <tr style=\"text-align: right;\">\n      <th></th>\n      <th>sentiment</th>\n      <th>productId</th>\n      <th>userId</th>\n      <th>summary</th>\n      <th>text</th>\n      <th>helpfulY</th>\n      <th>helpfulN</th>\n    </tr>\n  </thead>\n  <tbody>\n    <tr>\n      <th>0</th>\n      <td>-1</td>\n      <td>B000EQYQBO</td>\n      <td>A2JZVE0Y19VLL0</td>\n      <td>blue chips</td>\n      <td>The chips are okay Not near as flavorful as th...</td>\n      <td>0</td>\n      <td>0</td>\n    </tr>\n    <tr>\n      <th>1</th>\n      <td>-1</td>\n      <td>B000LKVHYC</td>\n      <td>A3NAKOMAS0I5L9</td>\n      <td>Bad even for 'healthy'</td>\n      <td>I had high hopes for this, but it was bad.  Re...</td>\n      <td>0</td>\n      <td>0</td>\n    </tr>\n    <tr>\n      <th>2</th>\n      <td>-1</td>\n      <td>B003QRQRY2</td>\n      <td>ARBO3XW14MNGA</td>\n      <td>Alot of money for one can</td>\n      <td>I guess it's only one can since there is nothi...</td>\n      <td>1</td>\n      <td>1</td>\n    </tr>\n    <tr>\n      <th>3</th>\n      <td>-1</td>\n      <td>B008EG58V8</td>\n      <td>A1IQXGT4MJUYJ8</td>\n      <td>The Box says \"OATMEAL SQUARES\" which I believe...</td>\n      <td>\"Oatmeal Squares\" is in about the largest prin...</td>\n      <td>0</td>\n      <td>0</td>\n    </tr>\n    <tr>\n      <th>4</th>\n      <td>1</td>\n      <td>B004WZZY8M</td>\n      <td>A2TBL6WAZGXB9P</td>\n      <td>Delicious!</td>\n      <td>I really enjoyed this flavor, this has a very ...</td>\n      <td>1</td>\n      <td>0</td>\n    </tr>\n    <tr>\n      <th>...</th>\n      <td>...</td>\n      <td>...</td>\n      <td>...</td>\n      <td>...</td>\n      <td>...</td>\n      <td>...</td>\n      <td>...</td>\n    </tr>\n    <tr>\n      <th>3995</th>\n      <td>-1</td>\n      <td>B0038B1DEU</td>\n      <td>A3MKRM2Q9F04UH</td>\n      <td>Great nutrititious drink for kids</td>\n      <td>I bought both the Berry and Chocolate drinks f...</td>\n      <td>4</td>\n      <td>2</td>\n    </tr>\n    <tr>\n      <th>3996</th>\n      <td>1</td>\n      <td>B0002CDZD0</td>\n      <td>A1ESH5GWEGT2ZX</td>\n      <td>SOOO GOOD FOR THE SKIN</td>\n      <td>THIS LAVENDER IS SOOO GOOD.IT LOOKS,SMELLS,TAS...</td>\n      <td>1</td>\n      <td>0</td>\n    </tr>\n    <tr>\n      <th>3997</th>\n      <td>1</td>\n      <td>B006N3I2SK</td>\n      <td>A2S0YE8GUSX20A</td>\n      <td>Deep fabulous rich decaf coffee for the Keurig</td>\n      <td>Great great decaf.  Made the Keurig worth it. ...</td>\n      <td>1</td>\n      <td>0</td>\n    </tr>\n    <tr>\n      <th>3998</th>\n      <td>1</td>\n      <td>B004TPUSU4</td>\n      <td>A16J5HGMGX5LWM</td>\n      <td>EXCELLENT American-made GF pasta!</td>\n      <td>Cooks up al-dente with great flavor. Doesn't f...</td>\n      <td>0</td>\n      <td>0</td>\n    </tr>\n    <tr>\n      <th>3999</th>\n      <td>-1</td>\n      <td>B001TLY7BM</td>\n      <td>AKYQ59VS0B38Q</td>\n      <td>cat food</td>\n      <td>The photo presented by a reviewer convinced me...</td>\n      <td>2</td>\n      <td>10</td>\n    </tr>\n  </tbody>\n</table>\n<p>4000 rows × 7 columns</p>\n</div>"
     },
     "execution_count": 7,
     "metadata": {},
     "output_type": "execute_result"
    }
   ],
   "source": [
    "reviews"
   ],
   "metadata": {
    "collapsed": false,
    "pycharm": {
     "name": "#%%\n"
    }
   }
  },
  {
   "cell_type": "code",
   "execution_count": 9,
   "outputs": [
    {
     "data": {
      "text/plain": "   sentiment   productId          userId  \\\n0         -1  B000EQYQBO  A2JZVE0Y19VLL0   \n1         -1  B000LKVHYC  A3NAKOMAS0I5L9   \n2         -1  B003QRQRY2   ARBO3XW14MNGA   \n3         -1  B008EG58V8  A1IQXGT4MJUYJ8   \n4          1  B004WZZY8M  A2TBL6WAZGXB9P   \n\n                                             summary  \\\n0                                         blue chips   \n1                             Bad even for 'healthy'   \n2                          Alot of money for one can   \n3  The Box says \"OATMEAL SQUARES\" which I believe...   \n4                                         Delicious!   \n\n                                                text  helpfulY  helpfulN  \n0  The chips are okay Not near as flavorful as th...         0         0  \n1  I had high hopes for this, but it was bad.  Re...         0         0  \n2  I guess it's only one can since there is nothi...         1         1  \n3  \"Oatmeal Squares\" is in about the largest prin...         0         0  \n4  I really enjoyed this flavor, this has a very ...         1         0  ",
      "text/html": "<div>\n<style scoped>\n    .dataframe tbody tr th:only-of-type {\n        vertical-align: middle;\n    }\n\n    .dataframe tbody tr th {\n        vertical-align: top;\n    }\n\n    .dataframe thead th {\n        text-align: right;\n    }\n</style>\n<table border=\"1\" class=\"dataframe\">\n  <thead>\n    <tr style=\"text-align: right;\">\n      <th></th>\n      <th>sentiment</th>\n      <th>productId</th>\n      <th>userId</th>\n      <th>summary</th>\n      <th>text</th>\n      <th>helpfulY</th>\n      <th>helpfulN</th>\n    </tr>\n  </thead>\n  <tbody>\n    <tr>\n      <th>0</th>\n      <td>-1</td>\n      <td>B000EQYQBO</td>\n      <td>A2JZVE0Y19VLL0</td>\n      <td>blue chips</td>\n      <td>The chips are okay Not near as flavorful as th...</td>\n      <td>0</td>\n      <td>0</td>\n    </tr>\n    <tr>\n      <th>1</th>\n      <td>-1</td>\n      <td>B000LKVHYC</td>\n      <td>A3NAKOMAS0I5L9</td>\n      <td>Bad even for 'healthy'</td>\n      <td>I had high hopes for this, but it was bad.  Re...</td>\n      <td>0</td>\n      <td>0</td>\n    </tr>\n    <tr>\n      <th>2</th>\n      <td>-1</td>\n      <td>B003QRQRY2</td>\n      <td>ARBO3XW14MNGA</td>\n      <td>Alot of money for one can</td>\n      <td>I guess it's only one can since there is nothi...</td>\n      <td>1</td>\n      <td>1</td>\n    </tr>\n    <tr>\n      <th>3</th>\n      <td>-1</td>\n      <td>B008EG58V8</td>\n      <td>A1IQXGT4MJUYJ8</td>\n      <td>The Box says \"OATMEAL SQUARES\" which I believe...</td>\n      <td>\"Oatmeal Squares\" is in about the largest prin...</td>\n      <td>0</td>\n      <td>0</td>\n    </tr>\n    <tr>\n      <th>4</th>\n      <td>1</td>\n      <td>B004WZZY8M</td>\n      <td>A2TBL6WAZGXB9P</td>\n      <td>Delicious!</td>\n      <td>I really enjoyed this flavor, this has a very ...</td>\n      <td>1</td>\n      <td>0</td>\n    </tr>\n  </tbody>\n</table>\n</div>"
     },
     "execution_count": 9,
     "metadata": {},
     "output_type": "execute_result"
    }
   ],
   "source": [
    "reviews.head()"
   ],
   "metadata": {
    "collapsed": false,
    "pycharm": {
     "name": "#%%\n"
    }
   }
  },
  {
   "cell_type": "code",
   "execution_count": 13,
   "outputs": [
    {
     "data": {
      "text/plain": "         sentiment     helpfulY    helpfulN\ncount  4000.000000  4000.000000  4000.00000\nmean     -0.015000     1.888500     0.85525\nstd       1.000013     6.505817     2.67359\nmin      -1.000000     0.000000     0.00000\n25%      -1.000000     0.000000     0.00000\n50%      -1.000000     0.000000     0.00000\n75%       1.000000     2.000000     1.00000\nmax       1.000000   180.000000    62.00000",
      "text/html": "<div>\n<style scoped>\n    .dataframe tbody tr th:only-of-type {\n        vertical-align: middle;\n    }\n\n    .dataframe tbody tr th {\n        vertical-align: top;\n    }\n\n    .dataframe thead th {\n        text-align: right;\n    }\n</style>\n<table border=\"1\" class=\"dataframe\">\n  <thead>\n    <tr style=\"text-align: right;\">\n      <th></th>\n      <th>sentiment</th>\n      <th>helpfulY</th>\n      <th>helpfulN</th>\n    </tr>\n  </thead>\n  <tbody>\n    <tr>\n      <th>count</th>\n      <td>4000.000000</td>\n      <td>4000.000000</td>\n      <td>4000.00000</td>\n    </tr>\n    <tr>\n      <th>mean</th>\n      <td>-0.015000</td>\n      <td>1.888500</td>\n      <td>0.85525</td>\n    </tr>\n    <tr>\n      <th>std</th>\n      <td>1.000013</td>\n      <td>6.505817</td>\n      <td>2.67359</td>\n    </tr>\n    <tr>\n      <th>min</th>\n      <td>-1.000000</td>\n      <td>0.000000</td>\n      <td>0.00000</td>\n    </tr>\n    <tr>\n      <th>25%</th>\n      <td>-1.000000</td>\n      <td>0.000000</td>\n      <td>0.00000</td>\n    </tr>\n    <tr>\n      <th>50%</th>\n      <td>-1.000000</td>\n      <td>0.000000</td>\n      <td>0.00000</td>\n    </tr>\n    <tr>\n      <th>75%</th>\n      <td>1.000000</td>\n      <td>2.000000</td>\n      <td>1.00000</td>\n    </tr>\n    <tr>\n      <th>max</th>\n      <td>1.000000</td>\n      <td>180.000000</td>\n      <td>62.00000</td>\n    </tr>\n  </tbody>\n</table>\n</div>"
     },
     "execution_count": 13,
     "metadata": {},
     "output_type": "execute_result"
    }
   ],
   "source": [
    "reviews.describe()"
   ],
   "metadata": {
    "collapsed": false,
    "pycharm": {
     "name": "#%%\n"
    }
   }
  },
  {
   "cell_type": "code",
   "execution_count": null,
   "outputs": [],
   "source": [],
   "metadata": {
    "collapsed": false,
    "pycharm": {
     "name": "#%%\n"
    }
   }
  }
 ],
 "metadata": {
  "kernelspec": {
   "display_name": "Python 3",
   "language": "python",
   "name": "python3"
  },
  "language_info": {
   "codemirror_mode": {
    "name": "ipython",
    "version": 2
   },
   "file_extension": ".py",
   "mimetype": "text/x-python",
   "name": "python",
   "nbconvert_exporter": "python",
   "pygments_lexer": "ipython2",
   "version": "2.7.6"
  }
 },
 "nbformat": 4,
 "nbformat_minor": 0
}