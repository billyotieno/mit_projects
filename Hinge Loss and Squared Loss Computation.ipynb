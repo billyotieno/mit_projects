{
 "cells": [
  {
   "cell_type": "code",
   "execution_count": 6,
   "id": "3cda503d",
   "metadata": {},
   "outputs": [],
   "source": [
    "import numpy as np\n",
    "import pandas as pd"
   ]
  },
  {
   "cell_type": "code",
   "execution_count": 7,
   "id": "f7515511",
   "metadata": {},
   "outputs": [
    {
     "data": {
      "text/plain": [
       "'1.4.2'"
      ]
     },
     "execution_count": 7,
     "metadata": {},
     "output_type": "execute_result"
    }
   ],
   "source": [
    "pd.__version__"
   ]
  },
  {
   "cell_type": "code",
   "execution_count": 8,
   "id": "da639ab4",
   "metadata": {},
   "outputs": [
    {
     "data": {
      "text/plain": [
       "'1.21.5'"
      ]
     },
     "execution_count": 8,
     "metadata": {},
     "output_type": "execute_result"
    }
   ],
   "source": [
    "np.__version__"
   ]
  },
  {
   "cell_type": "code",
   "execution_count": 9,
   "id": "bcb8cf59",
   "metadata": {},
   "outputs": [],
   "source": [
    "def hinge_loss_full(feature_matrix, labels, theta):\n",
    "    \"\"\"\n",
    "    Finds the total hinge loss on a set of data given specific classification\n",
    "    parameters.\n",
    "\n",
    "    Args:\n",
    "        feature_matrix - A numpy matrix describing the given data. Each row\n",
    "            represents a single data point.\n",
    "        labels - A numpy array where the kth element of the array is the\n",
    "            correct classification of the kth row of the feature matrix.\n",
    "        theta - A numpy array describing the linear classifier.\n",
    "        theta_0 - A real valued number representing the offset parameter.\n",
    "\n",
    "\n",
    "    Returns: A real number representing the hinge loss associated with the\n",
    "    given dataset and parameters. This number should be the average hinge\n",
    "    loss across all of the points in the feature matrix.\n",
    "    \"\"\"\n",
    "    num_data_points = feature_matrix.shape[0]\n",
    "    less_than_zero = np.maximum(np.zeros(num_data_points), 1 - labels * (np.dot(feature_matrix, theta)))\n",
    "    hinge_loss = np.sum(less_than_zero)/num_data_points\n",
    "    return hinge_loss"
   ]
  },
  {
   "cell_type": "code",
   "execution_count": 10,
   "id": "68ebd1f3",
   "metadata": {},
   "outputs": [],
   "source": [
    "feature_matrix = np.array([[1,0,1],[1,1,1],[1,1,-1],[-1,1,1]])"
   ]
  },
  {
   "cell_type": "code",
   "execution_count": 11,
   "id": "c2123546",
   "metadata": {},
   "outputs": [
    {
     "data": {
      "text/plain": [
       "4"
      ]
     },
     "execution_count": 11,
     "metadata": {},
     "output_type": "execute_result"
    }
   ],
   "source": [
    "feature_matrix.shape[0]"
   ]
  },
  {
   "cell_type": "code",
   "execution_count": 12,
   "id": "5f4cab93",
   "metadata": {},
   "outputs": [
    {
     "data": {
      "text/plain": [
       "array([ 2. ,  2.7, -0.7,  2. ])"
      ]
     },
     "execution_count": 12,
     "metadata": {},
     "output_type": "execute_result"
    }
   ],
   "source": [
    "labels = np.array([2, 2.7, -0.7, 2])\n",
    "labels"
   ]
  },
  {
   "cell_type": "code",
   "execution_count": 13,
   "id": "e80da6da",
   "metadata": {},
   "outputs": [],
   "source": [
    "theta = [0, 1, 2]"
   ]
  },
  {
   "cell_type": "code",
   "execution_count": 14,
   "id": "8c135cdb",
   "metadata": {},
   "outputs": [
    {
     "data": {
      "text/plain": [
       "0.07500000000000001"
      ]
     },
     "execution_count": 14,
     "metadata": {},
     "output_type": "execute_result"
    }
   ],
   "source": [
    "hinge_loss_full(feature_matrix, labels, theta)"
   ]
  },
  {
   "cell_type": "code",
   "execution_count": 15,
   "id": "68a590fc",
   "metadata": {},
   "outputs": [
    {
     "data": {
      "text/plain": [
       "array([ 2,  3, -1,  3])"
      ]
     },
     "execution_count": 15,
     "metadata": {},
     "output_type": "execute_result"
    }
   ],
   "source": [
    "np.dot(feature_matrix,theta)"
   ]
  },
  {
   "cell_type": "code",
   "execution_count": 16,
   "id": "ec0620bb",
   "metadata": {},
   "outputs": [],
   "source": [
    "z_values = labels - np.dot(feature_matrix, theta)"
   ]
  },
  {
   "cell_type": "code",
   "execution_count": 17,
   "id": "982e419b",
   "metadata": {},
   "outputs": [
    {
     "data": {
      "text/plain": [
       "array([ 0. , -0.3,  0.3, -1. ])"
      ]
     },
     "execution_count": 17,
     "metadata": {},
     "output_type": "execute_result"
    }
   ],
   "source": [
    "z_values"
   ]
  },
  {
   "cell_type": "code",
   "execution_count": 18,
   "id": "83043409",
   "metadata": {},
   "outputs": [
    {
     "data": {
      "text/plain": [
       "1.25"
      ]
     },
     "execution_count": 18,
     "metadata": {},
     "output_type": "execute_result"
    }
   ],
   "source": [
    "np.sum(1 - z_values) / 4"
   ]
  },
  {
   "cell_type": "code",
   "execution_count": 19,
   "id": "f5f9f789",
   "metadata": {},
   "outputs": [
    {
     "data": {
      "text/plain": [
       "array([0.   , 0.045, 0.045, 0.5  ])"
      ]
     },
     "execution_count": 19,
     "metadata": {},
     "output_type": "execute_result"
    }
   ],
   "source": [
    "# Compute Squared Loss\n",
    "squared_loss = np.square(z_values)/2\n",
    "squared_loss"
   ]
  },
  {
   "cell_type": "code",
   "execution_count": 20,
   "id": "2b98ad67",
   "metadata": {},
   "outputs": [
    {
     "data": {
      "text/plain": [
       "0.1475"
      ]
     },
     "execution_count": 20,
     "metadata": {},
     "output_type": "execute_result"
    }
   ],
   "source": [
    "np.sum(squared_loss) / 4"
   ]
  },
  {
   "cell_type": "code",
   "execution_count": 21,
   "id": "449fb07b-1aa6-4a57-a51b-d8eabb6f6d67",
   "metadata": {},
   "outputs": [
    {
     "ename": "SyntaxError",
     "evalue": "invalid syntax (464634962.py, line 1)",
     "output_type": "error",
     "traceback": [
      "\u001b[0;36m  Input \u001b[0;32mIn [21]\u001b[0;36m\u001b[0m\n\u001b[0;31m    import scikit-learn\u001b[0m\n\u001b[0m                 ^\u001b[0m\n\u001b[0;31mSyntaxError\u001b[0m\u001b[0;31m:\u001b[0m invalid syntax\n"
     ]
    }
   ],
   "source": [
    "import scikit-learn"
   ]
  },
  {
   "cell_type": "code",
   "execution_count": 23,
   "id": "ff004b22-26c7-4c04-91af-fd76d411cd54",
   "metadata": {},
   "outputs": [
    {
     "ename": "ModuleNotFoundError",
     "evalue": "No module named 'scikitlearn'",
     "output_type": "error",
     "traceback": [
      "\u001b[0;31m---------------------------------------------------------------------------\u001b[0m",
      "\u001b[0;31mModuleNotFoundError\u001b[0m                       Traceback (most recent call last)",
      "Input \u001b[0;32mIn [23]\u001b[0m, in \u001b[0;36m<cell line: 1>\u001b[0;34m()\u001b[0m\n\u001b[0;32m----> 1\u001b[0m \u001b[38;5;28;01mfrom\u001b[39;00m \u001b[38;5;21;01mscikitlearn\u001b[39;00m \u001b[38;5;28;01mimport\u001b[39;00m sklearn\n",
      "\u001b[0;31mModuleNotFoundError\u001b[0m: No module named 'scikitlearn'"
     ]
    }
   ],
   "source": []
  },
  {
   "cell_type": "code",
   "execution_count": 24,
   "id": "74eb3808-a6c3-4d29-8f3a-76eaa91b1025",
   "metadata": {},
   "outputs": [],
   "source": [
    "from sklearn import metrics"
   ]
  },
  {
   "cell_type": "code",
   "execution_count": 25,
   "id": "cdab2b69-285d-45d8-a70b-69293244f727",
   "metadata": {},
   "outputs": [
    {
     "ename": "NameError",
     "evalue": "name 'X' is not defined",
     "output_type": "error",
     "traceback": [
      "\u001b[0;31m---------------------------------------------------------------------------\u001b[0m",
      "\u001b[0;31mNameError\u001b[0m                                 Traceback (most recent call last)",
      "Input \u001b[0;32mIn [25]\u001b[0m, in \u001b[0;36m<cell line: 1>\u001b[0;34m()\u001b[0m\n\u001b[0;32m----> 1\u001b[0m metrics\u001b[38;5;241m.\u001b[39mpairwise\u001b[38;5;241m.\u001b[39mrbf_kernel(\u001b[43mX\u001b[49m, Y\u001b[38;5;241m=\u001b[39m\u001b[38;5;28;01mNone\u001b[39;00m, gamma\u001b[38;5;241m=\u001b[39m\u001b[38;5;28;01mNone\u001b[39;00m)\n",
      "\u001b[0;31mNameError\u001b[0m: name 'X' is not defined"
     ]
    }
   ],
   "source": [
    "metrics.pairwise.rbf_kernel(X, Y=None, gamma=None)"
   ]
  },
  {
   "cell_type": "code",
   "execution_count": 31,
   "id": "09d21eb1-a36b-422b-bbc7-07b383dd77ad",
   "metadata": {},
   "outputs": [],
   "source": [
    "X = np.array([[1,0,0]])\n",
    "Y = np.array([[0,1,0]])"
   ]
  },
  {
   "cell_type": "code",
   "execution_count": 32,
   "id": "3bc87b74-25e0-464c-9a98-7696b8b4167b",
   "metadata": {},
   "outputs": [
    {
     "data": {
      "text/plain": [
       "array([[1, 0, 0]])"
      ]
     },
     "execution_count": 32,
     "metadata": {},
     "output_type": "execute_result"
    }
   ],
   "source": [
    "X"
   ]
  },
  {
   "cell_type": "code",
   "execution_count": 33,
   "id": "1c5b0d86-2c55-4e1a-992e-4fc95f408244",
   "metadata": {},
   "outputs": [
    {
     "data": {
      "text/plain": [
       "array([[0, 1, 0]])"
      ]
     },
     "execution_count": 33,
     "metadata": {},
     "output_type": "execute_result"
    }
   ],
   "source": [
    "Y"
   ]
  },
  {
   "cell_type": "code",
   "execution_count": 34,
   "id": "bd4336ec-047e-4849-9fd7-ae921981ddca",
   "metadata": {},
   "outputs": [
    {
     "data": {
      "text/plain": [
       "array([[0.36787944, 1.        , 0.36787944],\n",
       "       [1.        , 0.36787944, 1.        ],\n",
       "       [1.        , 0.36787944, 1.        ]])"
      ]
     },
     "execution_count": 34,
     "metadata": {},
     "output_type": "execute_result"
    }
   ],
   "source": [
    "metrics.pairwise.rbf_kernel(X.T, Y.T)"
   ]
  },
  {
   "cell_type": "code",
   "execution_count": 35,
   "id": "47958151-660a-4d49-9aa9-62682e5d76e5",
   "metadata": {},
   "outputs": [],
   "source": [
    "from numpy import linalg as LA"
   ]
  },
  {
   "cell_type": "code",
   "execution_count": 38,
   "id": "256a9da6-d196-4a95-a5b1-913ee3ecd1d3",
   "metadata": {},
   "outputs": [
    {
     "data": {
      "text/plain": [
       "2.0000000000000004"
      ]
     },
     "execution_count": 38,
     "metadata": {},
     "output_type": "execute_result"
    }
   ],
   "source": [
    "np.square(LA.norm(X-Y))"
   ]
  },
  {
   "cell_type": "code",
   "execution_count": null,
   "id": "b9ca44ea-2cbd-4f4c-92c8-19f5ca68644b",
   "metadata": {},
   "outputs": [],
   "source": []
  }
 ],
 "metadata": {
  "kernelspec": {
   "display_name": "Python 3 (ipykernel)",
   "language": "python",
   "name": "python3"
  },
  "language_info": {
   "codemirror_mode": {
    "name": "ipython",
    "version": 3
   },
   "file_extension": ".py",
   "mimetype": "text/x-python",
   "name": "python",
   "nbconvert_exporter": "python",
   "pygments_lexer": "ipython3",
   "version": "3.9.12"
  }
 },
 "nbformat": 4,
 "nbformat_minor": 5
}
