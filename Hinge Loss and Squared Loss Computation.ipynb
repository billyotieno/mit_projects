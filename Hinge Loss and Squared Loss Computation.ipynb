{
 "cells": [
  {
   "cell_type": "code",
   "execution_count": 4,
   "id": "3cda503d",
   "metadata": {},
   "outputs": [],
   "source": [
    "import numpy as np\n",
    "import pandas as pd"
   ]
  },
  {
   "cell_type": "code",
   "execution_count": 5,
   "id": "f7515511",
   "metadata": {},
   "outputs": [
    {
     "data": {
      "text/plain": [
       "'1.4.2'"
      ]
     },
     "execution_count": 5,
     "metadata": {},
     "output_type": "execute_result"
    }
   ],
   "source": [
    "pd.__version__"
   ]
  },
  {
   "cell_type": "code",
   "execution_count": 6,
   "id": "da639ab4",
   "metadata": {},
   "outputs": [
    {
     "data": {
      "text/plain": [
       "'1.21.5'"
      ]
     },
     "execution_count": 6,
     "metadata": {},
     "output_type": "execute_result"
    }
   ],
   "source": [
    "np.__version__"
   ]
  },
  {
   "cell_type": "code",
   "execution_count": 18,
   "id": "bcb8cf59",
   "metadata": {},
   "outputs": [],
   "source": [
    "def hinge_loss_full(feature_matrix, labels, theta):\n",
    "    \"\"\"\n",
    "    Finds the total hinge loss on a set of data given specific classification\n",
    "    parameters.\n",
    "\n",
    "    Args:\n",
    "        feature_matrix - A numpy matrix describing the given data. Each row\n",
    "            represents a single data point.\n",
    "        labels - A numpy array where the kth element of the array is the\n",
    "            correct classification of the kth row of the feature matrix.\n",
    "        theta - A numpy array describing the linear classifier.\n",
    "        theta_0 - A real valued number representing the offset parameter.\n",
    "\n",
    "\n",
    "    Returns: A real number representing the hinge loss associated with the\n",
    "    given dataset and parameters. This number should be the average hinge\n",
    "    loss across all of the points in the feature matrix.\n",
    "    \"\"\"\n",
    "    num_data_points = feature_matrix.shape[0]\n",
    "    less_than_zero = np.maximum(np.zeros(num_data_points), 1 - labels * (np.dot(feature_matrix, theta)))\n",
    "    hinge_loss = np.sum(less_than_zero)/num_data_points\n",
    "    return hinge_loss"
   ]
  },
  {
   "cell_type": "code",
   "execution_count": 19,
   "id": "68ebd1f3",
   "metadata": {},
   "outputs": [],
   "source": [
    "feature_matrix = np.array([[1,0,1],[1,1,1],[1,1,-1],[-1,1,1]])"
   ]
  },
  {
   "cell_type": "code",
   "execution_count": 20,
   "id": "c2123546",
   "metadata": {},
   "outputs": [
    {
     "data": {
      "text/plain": [
       "4"
      ]
     },
     "execution_count": 20,
     "metadata": {},
     "output_type": "execute_result"
    }
   ],
   "source": [
    "feature_matrix.shape[0]"
   ]
  },
  {
   "cell_type": "code",
   "execution_count": 21,
   "id": "5f4cab93",
   "metadata": {},
   "outputs": [
    {
     "data": {
      "text/plain": [
       "array([ 2. ,  2.7, -0.7,  2. ])"
      ]
     },
     "execution_count": 21,
     "metadata": {},
     "output_type": "execute_result"
    }
   ],
   "source": [
    "labels = np.array([2, 2.7, -0.7, 2])\n",
    "labels"
   ]
  },
  {
   "cell_type": "code",
   "execution_count": 22,
   "id": "e80da6da",
   "metadata": {},
   "outputs": [],
   "source": [
    "theta = [0, 1, 2]"
   ]
  },
  {
   "cell_type": "code",
   "execution_count": 23,
   "id": "8c135cdb",
   "metadata": {},
   "outputs": [
    {
     "data": {
      "text/plain": [
       "0.07500000000000001"
      ]
     },
     "execution_count": 23,
     "metadata": {},
     "output_type": "execute_result"
    }
   ],
   "source": [
    "hinge_loss_full(feature_matrix, labels, theta)"
   ]
  },
  {
   "cell_type": "code",
   "execution_count": 27,
   "id": "68a590fc",
   "metadata": {},
   "outputs": [
    {
     "data": {
      "text/plain": [
       "array([ 2,  3, -1,  3])"
      ]
     },
     "execution_count": 27,
     "metadata": {},
     "output_type": "execute_result"
    }
   ],
   "source": [
    "np.dot(feature_matrix,theta)"
   ]
  },
  {
   "cell_type": "code",
   "execution_count": 29,
   "id": "ec0620bb",
   "metadata": {},
   "outputs": [],
   "source": [
    "z_values = labels - np.dot(feature_matrix, theta)"
   ]
  },
  {
   "cell_type": "code",
   "execution_count": 30,
   "id": "982e419b",
   "metadata": {},
   "outputs": [
    {
     "data": {
      "text/plain": [
       "array([ 0. , -0.3,  0.3, -1. ])"
      ]
     },
     "execution_count": 30,
     "metadata": {},
     "output_type": "execute_result"
    }
   ],
   "source": [
    "z_values"
   ]
  },
  {
   "cell_type": "code",
   "execution_count": 34,
   "id": "83043409",
   "metadata": {},
   "outputs": [
    {
     "data": {
      "text/plain": [
       "1.25"
      ]
     },
     "execution_count": 34,
     "metadata": {},
     "output_type": "execute_result"
    }
   ],
   "source": [
    "np.sum(1 - z_values) / 4"
   ]
  },
  {
   "cell_type": "code",
   "execution_count": 39,
   "id": "f5f9f789",
   "metadata": {},
   "outputs": [
    {
     "data": {
      "text/plain": [
       "array([0.   , 0.045, 0.045, 0.5  ])"
      ]
     },
     "execution_count": 39,
     "metadata": {},
     "output_type": "execute_result"
    }
   ],
   "source": [
    "# Compute Squared Loss\n",
    "squared_loss = np.square(z_values)/2\n",
    "squared_loss"
   ]
  },
  {
   "cell_type": "code",
   "execution_count": 40,
   "id": "2b98ad67",
   "metadata": {},
   "outputs": [
    {
     "data": {
      "text/plain": [
       "0.1475"
      ]
     },
     "execution_count": 40,
     "metadata": {},
     "output_type": "execute_result"
    }
   ],
   "source": [
    "np.sum(squared_loss) / 4"
   ]
  }
 ],
 "metadata": {
  "kernelspec": {
   "display_name": "Python 3 (ipykernel)",
   "language": "python",
   "name": "python3"
  },
  "language_info": {
   "codemirror_mode": {
    "name": "ipython",
    "version": 3
   },
   "file_extension": ".py",
   "mimetype": "text/x-python",
   "name": "python",
   "nbconvert_exporter": "python",
   "pygments_lexer": "ipython3",
   "version": "3.9.12"
  }
 },
 "nbformat": 4,
 "nbformat_minor": 5
}
